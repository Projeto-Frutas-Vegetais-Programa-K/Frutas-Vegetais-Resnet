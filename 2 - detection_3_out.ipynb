{
 "cells": [
  {
   "cell_type": "markdown",
   "id": "4b896321",
   "metadata": {
    "id": "4b896321"
   },
   "source": [
    "# Auxílio na tomada de decisão no processo de escolha de frutas e vegetais\n",
    "### by Lucas de Jesus"
   ]
  },
  {
   "cell_type": "markdown",
   "id": "0abfef19",
   "metadata": {
    "id": "0abfef19"
   },
   "source": [
    "Neste notebook será treinado um modelo de **3 saídas**, indicando a qualidade do alimento:\n",
    "<ul>\n",
    "    <li>0 = Good</li>\n",
    "    <li>1 = Bad</li>\n",
    "    <li>2 = Mixed</li>(trata-se de imagens que contenham frutas boas e ruins ao mesmo tempo)</li>\n",
    "</ul>"
   ]
  },
  {
   "cell_type": "markdown",
   "id": "61b38902",
   "metadata": {
    "id": "61b38902"
   },
   "source": [
    "Importação das bibliotecas necessárias"
   ]
  },
  {
   "cell_type": "code",
   "execution_count": null,
   "id": "a11b3835",
   "metadata": {
    "id": "a11b3835"
   },
   "outputs": [],
   "source": [
    "import numpy as np\n",
    "from numpy.random import seed\n",
    "import pandas as pd\n",
    "import matplotlib.pyplot as plt\n",
    "import os\n",
    "\n",
    "from sklearn.metrics import classification_report\n",
    "from sklearn.metrics import multilabel_confusion_matrix\n",
    "from sklearn.metrics import accuracy_score"
   ]
  },
  {
   "cell_type": "markdown",
   "id": "9c0594d6",
   "metadata": {
    "id": "9c0594d6"
   },
   "source": [
    "## Tratamento/organização da estrutura dos dados"
   ]
  },
  {
   "cell_type": "markdown",
   "id": "85b3a05e",
   "metadata": {
    "id": "85b3a05e"
   },
   "source": [
    "Aqui é feita a leitura do arquivo csv criado no primeiro notebook. Note que um total de 19526 imagens foram processadas, tendo cada uma gerado um conjunto de dados composto de 2048 números. Além disso, o arquivo csv carrega a localização do arquivo de cada imagem e a da fruta estabelecida pelo dataset.\n",
    "\n",
    "OBS: o arquivo .csv também está disponível em : https://drive.google.com/file/d/1wPd3tu3TM0r8MOVAl_3HBith03A4F5hW/view?usp=share_link"
   ]
  },
  {
   "cell_type": "code",
   "execution_count": null,
   "id": "8fafb7c6",
   "metadata": {
    "id": "8fafb7c6"
   },
   "outputs": [],
   "source": [
    "diretorio_features = \"C:/Users/lucas/OneDrive/Documentos/F&V/fruitnet/Processed Images_Fruits/\"\n",
    "df = pd.read_csv(diretorio_features + \"data.csv\")"
   ]
  },
  {
   "cell_type": "code",
   "execution_count": null,
   "id": "562dc1d7",
   "metadata": {
    "id": "562dc1d7",
    "outputId": "21dfb78c-0c9b-4dc5-d4d8-66ac846b659f"
   },
   "outputs": [
    {
     "data": {
      "text/html": [
       "<div>\n",
       "<style scoped>\n",
       "    .dataframe tbody tr th:only-of-type {\n",
       "        vertical-align: middle;\n",
       "    }\n",
       "\n",
       "    .dataframe tbody tr th {\n",
       "        vertical-align: top;\n",
       "    }\n",
       "\n",
       "    .dataframe thead th {\n",
       "        text-align: right;\n",
       "    }\n",
       "</style>\n",
       "<table border=\"1\" class=\"dataframe\">\n",
       "  <thead>\n",
       "    <tr style=\"text-align: right;\">\n",
       "      <th></th>\n",
       "      <th>0</th>\n",
       "      <th>1</th>\n",
       "      <th>2</th>\n",
       "      <th>3</th>\n",
       "      <th>4</th>\n",
       "      <th>5</th>\n",
       "      <th>6</th>\n",
       "      <th>7</th>\n",
       "      <th>8</th>\n",
       "      <th>9</th>\n",
       "      <th>...</th>\n",
       "      <th>2040</th>\n",
       "      <th>2041</th>\n",
       "      <th>2042</th>\n",
       "      <th>2043</th>\n",
       "      <th>2044</th>\n",
       "      <th>2045</th>\n",
       "      <th>2046</th>\n",
       "      <th>2047</th>\n",
       "      <th>ImageId</th>\n",
       "      <th>Qualidade</th>\n",
       "    </tr>\n",
       "  </thead>\n",
       "  <tbody>\n",
       "    <tr>\n",
       "      <th>0</th>\n",
       "      <td>0.812089</td>\n",
       "      <td>0.000000</td>\n",
       "      <td>0.233512</td>\n",
       "      <td>0.000000</td>\n",
       "      <td>0.022075</td>\n",
       "      <td>0.177229</td>\n",
       "      <td>0.000000</td>\n",
       "      <td>0.000000</td>\n",
       "      <td>0.046863</td>\n",
       "      <td>0.642263</td>\n",
       "      <td>...</td>\n",
       "      <td>0.000000</td>\n",
       "      <td>0.012494</td>\n",
       "      <td>0.062097</td>\n",
       "      <td>0.329836</td>\n",
       "      <td>0.000000</td>\n",
       "      <td>0.301165</td>\n",
       "      <td>0.000000</td>\n",
       "      <td>0.049723</td>\n",
       "      <td>C:/Users/lucas/OneDrive/Documentos/F&amp;V/fruitne...</td>\n",
       "      <td>0</td>\n",
       "    </tr>\n",
       "    <tr>\n",
       "      <th>1</th>\n",
       "      <td>2.007975</td>\n",
       "      <td>0.130812</td>\n",
       "      <td>0.645007</td>\n",
       "      <td>0.005651</td>\n",
       "      <td>0.000000</td>\n",
       "      <td>0.000000</td>\n",
       "      <td>0.000000</td>\n",
       "      <td>0.000000</td>\n",
       "      <td>0.027242</td>\n",
       "      <td>0.064694</td>\n",
       "      <td>...</td>\n",
       "      <td>0.658870</td>\n",
       "      <td>0.107789</td>\n",
       "      <td>0.000000</td>\n",
       "      <td>0.050416</td>\n",
       "      <td>0.020219</td>\n",
       "      <td>1.158088</td>\n",
       "      <td>0.000000</td>\n",
       "      <td>0.203732</td>\n",
       "      <td>C:/Users/lucas/OneDrive/Documentos/F&amp;V/fruitne...</td>\n",
       "      <td>0</td>\n",
       "    </tr>\n",
       "    <tr>\n",
       "      <th>2</th>\n",
       "      <td>1.452222</td>\n",
       "      <td>0.010259</td>\n",
       "      <td>0.061030</td>\n",
       "      <td>0.100477</td>\n",
       "      <td>0.161919</td>\n",
       "      <td>0.058856</td>\n",
       "      <td>0.002227</td>\n",
       "      <td>0.048041</td>\n",
       "      <td>0.046003</td>\n",
       "      <td>0.555546</td>\n",
       "      <td>...</td>\n",
       "      <td>0.474471</td>\n",
       "      <td>0.000000</td>\n",
       "      <td>0.107993</td>\n",
       "      <td>0.165584</td>\n",
       "      <td>0.086077</td>\n",
       "      <td>0.228294</td>\n",
       "      <td>0.055014</td>\n",
       "      <td>0.179556</td>\n",
       "      <td>C:/Users/lucas/OneDrive/Documentos/F&amp;V/fruitne...</td>\n",
       "      <td>0</td>\n",
       "    </tr>\n",
       "    <tr>\n",
       "      <th>3</th>\n",
       "      <td>1.721891</td>\n",
       "      <td>0.069463</td>\n",
       "      <td>0.275250</td>\n",
       "      <td>0.674763</td>\n",
       "      <td>0.350636</td>\n",
       "      <td>0.000000</td>\n",
       "      <td>0.000000</td>\n",
       "      <td>0.082744</td>\n",
       "      <td>0.000000</td>\n",
       "      <td>0.554559</td>\n",
       "      <td>...</td>\n",
       "      <td>0.000000</td>\n",
       "      <td>0.000000</td>\n",
       "      <td>0.463891</td>\n",
       "      <td>0.371997</td>\n",
       "      <td>1.286904</td>\n",
       "      <td>1.593021</td>\n",
       "      <td>0.013844</td>\n",
       "      <td>0.000000</td>\n",
       "      <td>C:/Users/lucas/OneDrive/Documentos/F&amp;V/fruitne...</td>\n",
       "      <td>0</td>\n",
       "    </tr>\n",
       "    <tr>\n",
       "      <th>4</th>\n",
       "      <td>0.313880</td>\n",
       "      <td>0.141807</td>\n",
       "      <td>0.170546</td>\n",
       "      <td>0.550855</td>\n",
       "      <td>0.299191</td>\n",
       "      <td>0.012076</td>\n",
       "      <td>0.071305</td>\n",
       "      <td>0.140486</td>\n",
       "      <td>0.000000</td>\n",
       "      <td>0.707265</td>\n",
       "      <td>...</td>\n",
       "      <td>0.000000</td>\n",
       "      <td>0.000481</td>\n",
       "      <td>0.000000</td>\n",
       "      <td>0.026284</td>\n",
       "      <td>0.531385</td>\n",
       "      <td>0.518031</td>\n",
       "      <td>0.022840</td>\n",
       "      <td>0.000000</td>\n",
       "      <td>C:/Users/lucas/OneDrive/Documentos/F&amp;V/fruitne...</td>\n",
       "      <td>0</td>\n",
       "    </tr>\n",
       "    <tr>\n",
       "      <th>...</th>\n",
       "      <td>...</td>\n",
       "      <td>...</td>\n",
       "      <td>...</td>\n",
       "      <td>...</td>\n",
       "      <td>...</td>\n",
       "      <td>...</td>\n",
       "      <td>...</td>\n",
       "      <td>...</td>\n",
       "      <td>...</td>\n",
       "      <td>...</td>\n",
       "      <td>...</td>\n",
       "      <td>...</td>\n",
       "      <td>...</td>\n",
       "      <td>...</td>\n",
       "      <td>...</td>\n",
       "      <td>...</td>\n",
       "      <td>...</td>\n",
       "      <td>...</td>\n",
       "      <td>...</td>\n",
       "      <td>...</td>\n",
       "      <td>...</td>\n",
       "    </tr>\n",
       "    <tr>\n",
       "      <th>19521</th>\n",
       "      <td>3.514952</td>\n",
       "      <td>0.589922</td>\n",
       "      <td>0.420647</td>\n",
       "      <td>0.710394</td>\n",
       "      <td>0.189993</td>\n",
       "      <td>0.018829</td>\n",
       "      <td>0.000000</td>\n",
       "      <td>0.148587</td>\n",
       "      <td>0.411278</td>\n",
       "      <td>0.213874</td>\n",
       "      <td>...</td>\n",
       "      <td>0.098636</td>\n",
       "      <td>0.008464</td>\n",
       "      <td>0.702275</td>\n",
       "      <td>0.000000</td>\n",
       "      <td>0.014291</td>\n",
       "      <td>2.631745</td>\n",
       "      <td>0.614610</td>\n",
       "      <td>0.152490</td>\n",
       "      <td>C:/Users/lucas/OneDrive/Documentos/F&amp;V/fruitne...</td>\n",
       "      <td>2</td>\n",
       "    </tr>\n",
       "    <tr>\n",
       "      <th>19522</th>\n",
       "      <td>3.706188</td>\n",
       "      <td>0.360693</td>\n",
       "      <td>0.225129</td>\n",
       "      <td>0.613530</td>\n",
       "      <td>0.241168</td>\n",
       "      <td>0.465065</td>\n",
       "      <td>0.000000</td>\n",
       "      <td>0.131877</td>\n",
       "      <td>0.321608</td>\n",
       "      <td>0.095309</td>\n",
       "      <td>...</td>\n",
       "      <td>0.369143</td>\n",
       "      <td>0.022112</td>\n",
       "      <td>0.706179</td>\n",
       "      <td>0.000000</td>\n",
       "      <td>0.176800</td>\n",
       "      <td>1.730300</td>\n",
       "      <td>0.626712</td>\n",
       "      <td>0.291197</td>\n",
       "      <td>C:/Users/lucas/OneDrive/Documentos/F&amp;V/fruitne...</td>\n",
       "      <td>2</td>\n",
       "    </tr>\n",
       "    <tr>\n",
       "      <th>19523</th>\n",
       "      <td>2.763747</td>\n",
       "      <td>0.467841</td>\n",
       "      <td>0.090997</td>\n",
       "      <td>1.221117</td>\n",
       "      <td>0.240596</td>\n",
       "      <td>0.448695</td>\n",
       "      <td>0.078005</td>\n",
       "      <td>0.093327</td>\n",
       "      <td>0.262737</td>\n",
       "      <td>0.143238</td>\n",
       "      <td>...</td>\n",
       "      <td>0.132788</td>\n",
       "      <td>0.002930</td>\n",
       "      <td>0.441962</td>\n",
       "      <td>0.000000</td>\n",
       "      <td>0.008939</td>\n",
       "      <td>1.877034</td>\n",
       "      <td>0.191286</td>\n",
       "      <td>0.126135</td>\n",
       "      <td>C:/Users/lucas/OneDrive/Documentos/F&amp;V/fruitne...</td>\n",
       "      <td>2</td>\n",
       "    </tr>\n",
       "    <tr>\n",
       "      <th>19524</th>\n",
       "      <td>3.854888</td>\n",
       "      <td>0.298927</td>\n",
       "      <td>0.209296</td>\n",
       "      <td>0.975982</td>\n",
       "      <td>0.480537</td>\n",
       "      <td>0.632171</td>\n",
       "      <td>0.463008</td>\n",
       "      <td>0.218467</td>\n",
       "      <td>0.321193</td>\n",
       "      <td>0.059494</td>\n",
       "      <td>...</td>\n",
       "      <td>0.150068</td>\n",
       "      <td>0.117594</td>\n",
       "      <td>0.767495</td>\n",
       "      <td>0.000000</td>\n",
       "      <td>0.000228</td>\n",
       "      <td>2.594018</td>\n",
       "      <td>1.467491</td>\n",
       "      <td>0.077223</td>\n",
       "      <td>C:/Users/lucas/OneDrive/Documentos/F&amp;V/fruitne...</td>\n",
       "      <td>2</td>\n",
       "    </tr>\n",
       "    <tr>\n",
       "      <th>19525</th>\n",
       "      <td>4.789390</td>\n",
       "      <td>0.265865</td>\n",
       "      <td>0.152963</td>\n",
       "      <td>0.907478</td>\n",
       "      <td>0.362052</td>\n",
       "      <td>0.090793</td>\n",
       "      <td>0.008525</td>\n",
       "      <td>0.035152</td>\n",
       "      <td>0.595448</td>\n",
       "      <td>0.000000</td>\n",
       "      <td>...</td>\n",
       "      <td>0.888887</td>\n",
       "      <td>0.000000</td>\n",
       "      <td>0.212851</td>\n",
       "      <td>0.001986</td>\n",
       "      <td>0.134471</td>\n",
       "      <td>2.271560</td>\n",
       "      <td>0.382053</td>\n",
       "      <td>0.422186</td>\n",
       "      <td>C:/Users/lucas/OneDrive/Documentos/F&amp;V/fruitne...</td>\n",
       "      <td>2</td>\n",
       "    </tr>\n",
       "  </tbody>\n",
       "</table>\n",
       "<p>19526 rows × 2050 columns</p>\n",
       "</div>"
      ],
      "text/plain": [
       "              0         1         2         3         4         5         6  \\\n",
       "0      0.812089  0.000000  0.233512  0.000000  0.022075  0.177229  0.000000   \n",
       "1      2.007975  0.130812  0.645007  0.005651  0.000000  0.000000  0.000000   \n",
       "2      1.452222  0.010259  0.061030  0.100477  0.161919  0.058856  0.002227   \n",
       "3      1.721891  0.069463  0.275250  0.674763  0.350636  0.000000  0.000000   \n",
       "4      0.313880  0.141807  0.170546  0.550855  0.299191  0.012076  0.071305   \n",
       "...         ...       ...       ...       ...       ...       ...       ...   \n",
       "19521  3.514952  0.589922  0.420647  0.710394  0.189993  0.018829  0.000000   \n",
       "19522  3.706188  0.360693  0.225129  0.613530  0.241168  0.465065  0.000000   \n",
       "19523  2.763747  0.467841  0.090997  1.221117  0.240596  0.448695  0.078005   \n",
       "19524  3.854888  0.298927  0.209296  0.975982  0.480537  0.632171  0.463008   \n",
       "19525  4.789390  0.265865  0.152963  0.907478  0.362052  0.090793  0.008525   \n",
       "\n",
       "              7         8         9  ...      2040      2041      2042  \\\n",
       "0      0.000000  0.046863  0.642263  ...  0.000000  0.012494  0.062097   \n",
       "1      0.000000  0.027242  0.064694  ...  0.658870  0.107789  0.000000   \n",
       "2      0.048041  0.046003  0.555546  ...  0.474471  0.000000  0.107993   \n",
       "3      0.082744  0.000000  0.554559  ...  0.000000  0.000000  0.463891   \n",
       "4      0.140486  0.000000  0.707265  ...  0.000000  0.000481  0.000000   \n",
       "...         ...       ...       ...  ...       ...       ...       ...   \n",
       "19521  0.148587  0.411278  0.213874  ...  0.098636  0.008464  0.702275   \n",
       "19522  0.131877  0.321608  0.095309  ...  0.369143  0.022112  0.706179   \n",
       "19523  0.093327  0.262737  0.143238  ...  0.132788  0.002930  0.441962   \n",
       "19524  0.218467  0.321193  0.059494  ...  0.150068  0.117594  0.767495   \n",
       "19525  0.035152  0.595448  0.000000  ...  0.888887  0.000000  0.212851   \n",
       "\n",
       "           2043      2044      2045      2046      2047  \\\n",
       "0      0.329836  0.000000  0.301165  0.000000  0.049723   \n",
       "1      0.050416  0.020219  1.158088  0.000000  0.203732   \n",
       "2      0.165584  0.086077  0.228294  0.055014  0.179556   \n",
       "3      0.371997  1.286904  1.593021  0.013844  0.000000   \n",
       "4      0.026284  0.531385  0.518031  0.022840  0.000000   \n",
       "...         ...       ...       ...       ...       ...   \n",
       "19521  0.000000  0.014291  2.631745  0.614610  0.152490   \n",
       "19522  0.000000  0.176800  1.730300  0.626712  0.291197   \n",
       "19523  0.000000  0.008939  1.877034  0.191286  0.126135   \n",
       "19524  0.000000  0.000228  2.594018  1.467491  0.077223   \n",
       "19525  0.001986  0.134471  2.271560  0.382053  0.422186   \n",
       "\n",
       "                                                 ImageId  Qualidade  \n",
       "0      C:/Users/lucas/OneDrive/Documentos/F&V/fruitne...          0  \n",
       "1      C:/Users/lucas/OneDrive/Documentos/F&V/fruitne...          0  \n",
       "2      C:/Users/lucas/OneDrive/Documentos/F&V/fruitne...          0  \n",
       "3      C:/Users/lucas/OneDrive/Documentos/F&V/fruitne...          0  \n",
       "4      C:/Users/lucas/OneDrive/Documentos/F&V/fruitne...          0  \n",
       "...                                                  ...        ...  \n",
       "19521  C:/Users/lucas/OneDrive/Documentos/F&V/fruitne...          2  \n",
       "19522  C:/Users/lucas/OneDrive/Documentos/F&V/fruitne...          2  \n",
       "19523  C:/Users/lucas/OneDrive/Documentos/F&V/fruitne...          2  \n",
       "19524  C:/Users/lucas/OneDrive/Documentos/F&V/fruitne...          2  \n",
       "19525  C:/Users/lucas/OneDrive/Documentos/F&V/fruitne...          2  \n",
       "\n",
       "[19526 rows x 2050 columns]"
      ]
     },
     "execution_count": 3,
     "metadata": {},
     "output_type": "execute_result"
    }
   ],
   "source": [
    "df"
   ]
  },
  {
   "cell_type": "markdown",
   "id": "288d9435",
   "metadata": {
    "id": "288d9435"
   },
   "source": [
    "Extrai o nome de cada fruta"
   ]
  },
  {
   "cell_type": "code",
   "execution_count": null,
   "id": "17efd85a",
   "metadata": {
    "id": "17efd85a"
   },
   "outputs": [],
   "source": [
    "#dicionário para indexar as frutas\n",
    "nome_frutas = {\"Apple\":0, \"Banana\":1, \"Guava\":2, \"Lime\":3, \"Orange\":4, \"Pomegranate\":5}\n",
    "df_nome = []\n",
    "\n",
    "#procura pelo endereço de cada imagem marcada no csv\n",
    "for addr in df[\"ImageId\"]:\n",
    "    \n",
    "    #procura pelo nome do diretório que contêm o nome da fruta\n",
    "    nome = addr.split(\"/\")[9]\n",
    "    pos_underline = nome.find(\"_\")\n",
    "    \n",
    "    #se não encontrar o underline no nome da fruta (que ocorre na pasta de Mixed quality)\n",
    "    if pos_underline == -1: \n",
    "        df_nome.append(nome_frutas[nome])\n",
    "    else:\n",
    "        df_nome.append(nome_frutas[nome[:pos_underline]]) #ignora a qualidade, que está após o _\n"
   ]
  },
  {
   "cell_type": "markdown",
   "id": "cde1057e",
   "metadata": {
    "id": "cde1057e"
   },
   "source": [
    "Adiciona colunas de Nomes"
   ]
  },
  {
   "cell_type": "code",
   "execution_count": null,
   "id": "232fd1e7",
   "metadata": {
    "id": "232fd1e7",
    "outputId": "4ac811f9-23c9-4757-a28e-43694c4958c5"
   },
   "outputs": [
    {
     "data": {
      "text/html": [
       "<div>\n",
       "<style scoped>\n",
       "    .dataframe tbody tr th:only-of-type {\n",
       "        vertical-align: middle;\n",
       "    }\n",
       "\n",
       "    .dataframe tbody tr th {\n",
       "        vertical-align: top;\n",
       "    }\n",
       "\n",
       "    .dataframe thead th {\n",
       "        text-align: right;\n",
       "    }\n",
       "</style>\n",
       "<table border=\"1\" class=\"dataframe\">\n",
       "  <thead>\n",
       "    <tr style=\"text-align: right;\">\n",
       "      <th></th>\n",
       "      <th>0</th>\n",
       "      <th>1</th>\n",
       "      <th>2</th>\n",
       "      <th>3</th>\n",
       "      <th>4</th>\n",
       "      <th>5</th>\n",
       "      <th>6</th>\n",
       "      <th>7</th>\n",
       "      <th>8</th>\n",
       "      <th>9</th>\n",
       "      <th>...</th>\n",
       "      <th>2041</th>\n",
       "      <th>2042</th>\n",
       "      <th>2043</th>\n",
       "      <th>2044</th>\n",
       "      <th>2045</th>\n",
       "      <th>2046</th>\n",
       "      <th>2047</th>\n",
       "      <th>ImageId</th>\n",
       "      <th>Qualidade</th>\n",
       "      <th>Nome</th>\n",
       "    </tr>\n",
       "  </thead>\n",
       "  <tbody>\n",
       "    <tr>\n",
       "      <th>0</th>\n",
       "      <td>0.812089</td>\n",
       "      <td>0.000000</td>\n",
       "      <td>0.233512</td>\n",
       "      <td>0.000000</td>\n",
       "      <td>0.022075</td>\n",
       "      <td>0.177229</td>\n",
       "      <td>0.000000</td>\n",
       "      <td>0.000000</td>\n",
       "      <td>0.046863</td>\n",
       "      <td>0.642263</td>\n",
       "      <td>...</td>\n",
       "      <td>0.012494</td>\n",
       "      <td>0.062097</td>\n",
       "      <td>0.329836</td>\n",
       "      <td>0.000000</td>\n",
       "      <td>0.301165</td>\n",
       "      <td>0.000000</td>\n",
       "      <td>0.049723</td>\n",
       "      <td>C:/Users/lucas/OneDrive/Documentos/F&amp;V/fruitne...</td>\n",
       "      <td>0</td>\n",
       "      <td>0</td>\n",
       "    </tr>\n",
       "    <tr>\n",
       "      <th>1</th>\n",
       "      <td>2.007975</td>\n",
       "      <td>0.130812</td>\n",
       "      <td>0.645007</td>\n",
       "      <td>0.005651</td>\n",
       "      <td>0.000000</td>\n",
       "      <td>0.000000</td>\n",
       "      <td>0.000000</td>\n",
       "      <td>0.000000</td>\n",
       "      <td>0.027242</td>\n",
       "      <td>0.064694</td>\n",
       "      <td>...</td>\n",
       "      <td>0.107789</td>\n",
       "      <td>0.000000</td>\n",
       "      <td>0.050416</td>\n",
       "      <td>0.020219</td>\n",
       "      <td>1.158088</td>\n",
       "      <td>0.000000</td>\n",
       "      <td>0.203732</td>\n",
       "      <td>C:/Users/lucas/OneDrive/Documentos/F&amp;V/fruitne...</td>\n",
       "      <td>0</td>\n",
       "      <td>0</td>\n",
       "    </tr>\n",
       "    <tr>\n",
       "      <th>2</th>\n",
       "      <td>1.452222</td>\n",
       "      <td>0.010259</td>\n",
       "      <td>0.061030</td>\n",
       "      <td>0.100477</td>\n",
       "      <td>0.161919</td>\n",
       "      <td>0.058856</td>\n",
       "      <td>0.002227</td>\n",
       "      <td>0.048041</td>\n",
       "      <td>0.046003</td>\n",
       "      <td>0.555546</td>\n",
       "      <td>...</td>\n",
       "      <td>0.000000</td>\n",
       "      <td>0.107993</td>\n",
       "      <td>0.165584</td>\n",
       "      <td>0.086077</td>\n",
       "      <td>0.228294</td>\n",
       "      <td>0.055014</td>\n",
       "      <td>0.179556</td>\n",
       "      <td>C:/Users/lucas/OneDrive/Documentos/F&amp;V/fruitne...</td>\n",
       "      <td>0</td>\n",
       "      <td>0</td>\n",
       "    </tr>\n",
       "    <tr>\n",
       "      <th>3</th>\n",
       "      <td>1.721891</td>\n",
       "      <td>0.069463</td>\n",
       "      <td>0.275250</td>\n",
       "      <td>0.674763</td>\n",
       "      <td>0.350636</td>\n",
       "      <td>0.000000</td>\n",
       "      <td>0.000000</td>\n",
       "      <td>0.082744</td>\n",
       "      <td>0.000000</td>\n",
       "      <td>0.554559</td>\n",
       "      <td>...</td>\n",
       "      <td>0.000000</td>\n",
       "      <td>0.463891</td>\n",
       "      <td>0.371997</td>\n",
       "      <td>1.286904</td>\n",
       "      <td>1.593021</td>\n",
       "      <td>0.013844</td>\n",
       "      <td>0.000000</td>\n",
       "      <td>C:/Users/lucas/OneDrive/Documentos/F&amp;V/fruitne...</td>\n",
       "      <td>0</td>\n",
       "      <td>0</td>\n",
       "    </tr>\n",
       "    <tr>\n",
       "      <th>4</th>\n",
       "      <td>0.313880</td>\n",
       "      <td>0.141807</td>\n",
       "      <td>0.170546</td>\n",
       "      <td>0.550855</td>\n",
       "      <td>0.299191</td>\n",
       "      <td>0.012076</td>\n",
       "      <td>0.071305</td>\n",
       "      <td>0.140486</td>\n",
       "      <td>0.000000</td>\n",
       "      <td>0.707265</td>\n",
       "      <td>...</td>\n",
       "      <td>0.000481</td>\n",
       "      <td>0.000000</td>\n",
       "      <td>0.026284</td>\n",
       "      <td>0.531385</td>\n",
       "      <td>0.518031</td>\n",
       "      <td>0.022840</td>\n",
       "      <td>0.000000</td>\n",
       "      <td>C:/Users/lucas/OneDrive/Documentos/F&amp;V/fruitne...</td>\n",
       "      <td>0</td>\n",
       "      <td>0</td>\n",
       "    </tr>\n",
       "  </tbody>\n",
       "</table>\n",
       "<p>5 rows × 2051 columns</p>\n",
       "</div>"
      ],
      "text/plain": [
       "          0         1         2         3         4         5         6  \\\n",
       "0  0.812089  0.000000  0.233512  0.000000  0.022075  0.177229  0.000000   \n",
       "1  2.007975  0.130812  0.645007  0.005651  0.000000  0.000000  0.000000   \n",
       "2  1.452222  0.010259  0.061030  0.100477  0.161919  0.058856  0.002227   \n",
       "3  1.721891  0.069463  0.275250  0.674763  0.350636  0.000000  0.000000   \n",
       "4  0.313880  0.141807  0.170546  0.550855  0.299191  0.012076  0.071305   \n",
       "\n",
       "          7         8         9  ...      2041      2042      2043      2044  \\\n",
       "0  0.000000  0.046863  0.642263  ...  0.012494  0.062097  0.329836  0.000000   \n",
       "1  0.000000  0.027242  0.064694  ...  0.107789  0.000000  0.050416  0.020219   \n",
       "2  0.048041  0.046003  0.555546  ...  0.000000  0.107993  0.165584  0.086077   \n",
       "3  0.082744  0.000000  0.554559  ...  0.000000  0.463891  0.371997  1.286904   \n",
       "4  0.140486  0.000000  0.707265  ...  0.000481  0.000000  0.026284  0.531385   \n",
       "\n",
       "       2045      2046      2047  \\\n",
       "0  0.301165  0.000000  0.049723   \n",
       "1  1.158088  0.000000  0.203732   \n",
       "2  0.228294  0.055014  0.179556   \n",
       "3  1.593021  0.013844  0.000000   \n",
       "4  0.518031  0.022840  0.000000   \n",
       "\n",
       "                                             ImageId  Qualidade  Nome  \n",
       "0  C:/Users/lucas/OneDrive/Documentos/F&V/fruitne...          0     0  \n",
       "1  C:/Users/lucas/OneDrive/Documentos/F&V/fruitne...          0     0  \n",
       "2  C:/Users/lucas/OneDrive/Documentos/F&V/fruitne...          0     0  \n",
       "3  C:/Users/lucas/OneDrive/Documentos/F&V/fruitne...          0     0  \n",
       "4  C:/Users/lucas/OneDrive/Documentos/F&V/fruitne...          0     0  \n",
       "\n",
       "[5 rows x 2051 columns]"
      ]
     },
     "execution_count": 5,
     "metadata": {},
     "output_type": "execute_result"
    }
   ],
   "source": [
    "df[\"Nome\"] = df_nome\n",
    "df.head()"
   ]
  },
  {
   "cell_type": "markdown",
   "id": "e6f70477",
   "metadata": {
    "id": "e6f70477"
   },
   "source": [
    "## Análise do balanceamento do dataset"
   ]
  },
  {
   "cell_type": "markdown",
   "id": "gxUwhtydsVzW",
   "metadata": {
    "id": "gxUwhtydsVzW"
   },
   "source": [
    "Neste trecho de código é verificada a quantidade de amostras que o dataset contém para cada uma das 3 \"qualidades\".\n",
    "\n",
    "Um conjunto de dados pode estar desequilibrado, o que significa que ele contém um número desproporcionalmente grande de amostras de uma determinada classe em relação a outras classes. Isso pode levar a um viés na modelagem, onde o modelo pode se tornar excessivamente sensível à classe majoritária e não ser capaz de generalizar bem para as classes minoritárias.\n"
   ]
  },
  {
   "cell_type": "markdown",
   "id": "EqrLmhWY1EKp",
   "metadata": {
    "id": "EqrLmhWY1EKp"
   },
   "source": [
    "É possível notar que há uma quantidade muito maior de exemplares de frutas boas em comparação com a quantidade de exemplares de frutas ruins e exemplares da classe mista."
   ]
  },
  {
   "cell_type": "code",
   "execution_count": null,
   "id": "1be18f4f",
   "metadata": {
    "id": "1be18f4f"
   },
   "outputs": [],
   "source": [
    "def correct_hist(val):\n",
    "    labels, counts = np.unique(val, return_counts=True)\n",
    "    plt.bar(labels, counts, align='center')\n",
    "    plt.gca().set_xticks(labels)\n",
    "    plt.show()"
   ]
  },
  {
   "cell_type": "code",
   "execution_count": null,
   "id": "d322ee27",
   "metadata": {
    "id": "d322ee27",
    "outputId": "62906d02-ab86-49c1-a216-07698dc6da8f"
   },
   "outputs": [
    {
     "data": {
      "image/png": "[encoded data removed]",
      "text/plain": [
       "<Figure size 640x480 with 1 Axes>"
      ]
     },
     "metadata": {},
     "output_type": "display_data"
    }
   ],
   "source": [
    "correct_hist(df[\"Qualidade\"])"
   ]
  },
  {
   "cell_type": "code",
   "execution_count": null,
   "id": "d64ecf67",
   "metadata": {
    "id": "d64ecf67",
    "outputId": "f7ed6a23-be04-47a2-8cd3-97b5944023f8"
   },
   "outputs": [
    {
     "data": {
      "text/plain": [
       "0    11664\n",
       "1     6788\n",
       "2     1074\n",
       "Name: Qualidade, dtype: int64"
      ]
     },
     "execution_count": 8,
     "metadata": {},
     "output_type": "execute_result"
    }
   ],
   "source": [
    "df[\"Qualidade\"].value_counts()"
   ]
  },
  {
   "cell_type": "markdown",
   "id": "59db8b95",
   "metadata": {
    "id": "59db8b95"
   },
   "source": [
    "O mesmo é feito em relação a cada fruta. Aqui notamos que boa parte do dataset está balanceado, com exceção das amostras de romã em comparação com as amostras das outras frutas.\n",
    "<ul>\n",
    "    <li>0 = Maçã</li>\n",
    "    <li>1 = Banana</li>\n",
    "    <li>2 = Guava (goiaba)</li>\n",
    "    <li>3 = Lima</li>\n",
    "    <li>4 = Laranja</li>\n",
    "    <li>5 = Romã</li>\n",
    "</ul>"
   ]
  },
  {
   "cell_type": "code",
   "execution_count": null,
   "id": "d3840b49",
   "metadata": {
    "id": "d3840b49",
    "outputId": "e8e90d9e-0003-4b39-88d1-3079ac4f9a9e"
   },
   "outputs": [
    {
     "data": {
      "image/png": "[encoded data removed]",
      "text/plain": [
       "<Figure size 640x480 with 1 Axes>"
      ]
     },
     "metadata": {},
     "output_type": "display_data"
    }
   ],
   "source": [
    "correct_hist(df[\"Nome\"])"
   ]
  },
  {
   "cell_type": "markdown",
   "id": "-7lOJ2rDugSj",
   "metadata": {
    "id": "-7lOJ2rDugSj"
   },
   "source": [
    "Contagem de amostras de cada fruta."
   ]
  },
  {
   "cell_type": "code",
   "execution_count": null,
   "id": "3d461279",
   "metadata": {
    "id": "3d461279",
    "outputId": "0681c41f-a187-4e82-ce45-3b52c65ca5aa"
   },
   "outputs": [
    {
     "data": {
      "text/plain": [
       "5    7252\n",
       "4    2500\n",
       "1    2485\n",
       "3    2457\n",
       "2    2429\n",
       "0    2403\n",
       "Name: Nome, dtype: int64"
      ]
     },
     "execution_count": 10,
     "metadata": {},
     "output_type": "execute_result"
    }
   ],
   "source": [
    "df[\"Nome\"].value_counts()"
   ]
  },
  {
   "cell_type": "markdown",
   "id": "fca5479a",
   "metadata": {
    "id": "fca5479a"
   },
   "source": [
    "## Separação de Features e Dados de Saída"
   ]
  },
  {
   "cell_type": "markdown",
   "id": "009b3acc",
   "metadata": {
    "id": "009b3acc"
   },
   "source": [
    "Separa as features de cada imagem e o label esperado de saída."
   ]
  },
  {
   "cell_type": "code",
   "execution_count": null,
   "id": "3effab5d",
   "metadata": {
    "id": "3effab5d"
   },
   "outputs": [],
   "source": [
    "from sklearn.preprocessing import MinMaxScaler\n",
    "\n",
    "#função auxiliar de normalização\n",
    "def normalize(x):\n",
    "    scaler = MinMaxScaler()\n",
    "    scaler.fit(x)\n",
    "    return scaler, scaler.transform(x)"
   ]
  },
  {
   "cell_type": "code",
   "execution_count": null,
   "id": "57e374c9",
   "metadata": {
    "id": "57e374c9"
   },
   "outputs": [],
   "source": [
    "faixa_features = [str(i) for i in range(2048)]\n",
    "\n",
    "#separa as feature e realiza \n",
    "scaler, features = normalize(np.array(df[faixa_features]))\n",
    "qualidade = np.array(df['Qualidade'])\n",
    "nome = np.array(df['Nome'])\n"
   ]
  },
  {
   "cell_type": "markdown",
   "id": "4c09b0cb",
   "metadata": {
    "id": "4c09b0cb"
   },
   "source": [
    "## Balanceando o Dataset"
   ]
  },
  {
   "cell_type": "markdown",
   "id": "d4c9a4f4",
   "metadata": {
    "id": "d4c9a4f4"
   },
   "source": [
    "Conforme é possível perceber, estes datasets se encontram desbalanceados, portanto antes de prosseguirmos, devemos seguir pela etapa de balanceamento."
   ]
  },
  {
   "cell_type": "markdown",
   "id": "f4d5fa9a",
   "metadata": {
    "id": "f4d5fa9a"
   },
   "source": [
    "Em relação à qualidade:\n",
    "\n",
    "Aqui foi usada a técnica de oversampling para balancear as amostras."
   ]
  },
  {
   "cell_type": "code",
   "execution_count": null,
   "id": "7bd4acb7",
   "metadata": {
    "id": "7bd4acb7"
   },
   "outputs": [],
   "source": [
    "from imblearn.over_sampling import RandomOverSampler # Para a técnica usada\n",
    "from imblearn.under_sampling import RandomUnderSampler # Não foi usado aqui, mas corresponde a uma alternativa\n",
    "\n",
    "sampler = RandomOverSampler(random_state=42)\n",
    "\n",
    "#features e saídas\n",
    "features_q, qualidade_q = sampler.fit_resample(features, qualidade)"
   ]
  },
  {
   "cell_type": "code",
   "execution_count": null,
   "id": "16f49921",
   "metadata": {
    "id": "16f49921",
    "outputId": "f19eed26-4d0b-4590-d9ee-96fe4ae6b57c"
   },
   "outputs": [
    {
     "data": {
      "image/png": "[encoded data removed]",
      "text/plain": [
       "<Figure size 640x480 with 1 Axes>"
      ]
     },
     "metadata": {},
     "output_type": "display_data"
    }
   ],
   "source": [
    "correct_hist(qualidade_q)"
   ]
  },
  {
   "cell_type": "markdown",
   "id": "5217d70b",
   "metadata": {
    "id": "5217d70b"
   },
   "source": [
    "### Em relação aos labels\n",
    "\n",
    "Aqui também foi usada a técnica de oversampling para balancear as amostras."
   ]
  },
  {
   "cell_type": "code",
   "execution_count": null,
   "id": "9d617a95",
   "metadata": {
    "id": "9d617a95"
   },
   "outputs": [],
   "source": [
    "#features e saídas\n",
    "features_n, nome_n = sampler.fit_resample(features, nome)"
   ]
  },
  {
   "cell_type": "code",
   "execution_count": null,
   "id": "2d534353",
   "metadata": {
    "id": "2d534353",
    "outputId": "5805e057-aee4-4e61-b124-2b2247b87126"
   },
   "outputs": [
    {
     "data": {
      "image/png": "[encoded data removed]",
      "text/plain": [
       "<Figure size 640x480 with 1 Axes>"
      ]
     },
     "metadata": {},
     "output_type": "display_data"
    }
   ],
   "source": [
    "correct_hist(nome_n)"
   ]
  },
  {
   "cell_type": "markdown",
   "id": "917d9cb3",
   "metadata": {
    "id": "917d9cb3"
   },
   "source": [
    "# Detecção de qualidade - Treinando a MLP"
   ]
  },
  {
   "cell_type": "markdown",
   "id": "d822c1df",
   "metadata": {
    "id": "d822c1df"
   },
   "source": [
    "Aqui codificamos as variáveis de saída, de modo que a mesma seja adequada ao processo de classificação multiclasses (one-hot encoded)."
   ]
  },
  {
   "cell_type": "code",
   "execution_count": null,
   "id": "0f82f71c",
   "metadata": {
    "id": "0f82f71c",
    "outputId": "0f08a17e-78ad-4c5c-895e-f45c99f4d6ca"
   },
   "outputs": [
    {
     "data": {
      "text/plain": [
       "array([[1., 0., 0.],\n",
       "       [1., 0., 0.],\n",
       "       [1., 0., 0.],\n",
       "       ...,\n",
       "       [0., 0., 1.],\n",
       "       [0., 0., 1.],\n",
       "       [0., 0., 1.]], dtype=float32)"
      ]
     },
     "execution_count": 17,
     "metadata": {},
     "output_type": "execute_result"
    }
   ],
   "source": [
    "from keras.utils import np_utils\n",
    "\n",
    "qualidade_q = np_utils.to_categorical(qualidade_q)\n",
    "qualidade_q"
   ]
  },
  {
   "cell_type": "markdown",
   "id": "f9207b55",
   "metadata": {
    "id": "f9207b55"
   },
   "source": [
    "Separa o dataset em treino e teste.\n",
    "\n",
    "Como pode ser visto, 40% do dataset foi separado para testes."
   ]
  },
  {
   "cell_type": "code",
   "execution_count": null,
   "id": "c929efa8",
   "metadata": {
    "id": "c929efa8"
   },
   "outputs": [],
   "source": [
    "from sklearn.model_selection import train_test_split\n",
    "\n",
    "\n",
    "#separa em dataset de treino e teste, 60/40\n",
    "x_train, x_test, y_train, y_test = train_test_split(features_q, qualidade_q, test_size=0.4, random_state= 29)"
   ]
  },
  {
   "cell_type": "markdown",
   "id": "9622a20f",
   "metadata": {
    "id": "9622a20f"
   },
   "source": [
    "Faz o processo de escala nos dados"
   ]
  },
  {
   "cell_type": "code",
   "execution_count": null,
   "id": "33a7cd90",
   "metadata": {
    "id": "33a7cd90"
   },
   "outputs": [],
   "source": [
    "from sklearn.preprocessing import StandardScaler, MinMaxScaler, RobustScaler\n",
    "scaler_x = StandardScaler().fit(x_train)\n",
    "\n",
    "x_train = scaler_x.transform(x_train)\n",
    "x_test =  scaler_x.transform(x_test)"
   ]
  },
  {
   "cell_type": "code",
   "execution_count": null,
   "id": "be1d4a22",
   "metadata": {
    "id": "be1d4a22",
    "outputId": "21a6620d-af24-4572-ec32-e60340742b63"
   },
   "outputs": [
    {
     "data": {
      "text/plain": [
       "array([[1., 0., 0.],\n",
       "       [0., 0., 1.],\n",
       "       [0., 0., 1.],\n",
       "       ...,\n",
       "       [1., 0., 0.],\n",
       "       [0., 0., 1.],\n",
       "       [0., 0., 1.]], dtype=float32)"
      ]
     },
     "execution_count": 20,
     "metadata": {},
     "output_type": "execute_result"
    }
   ],
   "source": [
    "y_train"
   ]
  },
  {
   "cell_type": "markdown",
   "id": "4c1f6a53",
   "metadata": {
    "id": "4c1f6a53"
   },
   "source": [
    "### Grid search para encontrar os melhores hiperparâmetros\n",
    "\n",
    "O código está comentado.\n",
    "A saída resultante deste bloco de código contém os melhores hiperparâmetros identificados para a rede."
   ]
  },
  {
   "cell_type": "code",
   "execution_count": null,
   "id": "7c9341b7",
   "metadata": {
    "id": "7c9341b7",
    "outputId": "64221c68-1be8-492a-d925-8c399586d8ef",
    "scrolled": true
   },
   "outputs": [
    {
     "data": {
      "text/plain": [
       "\"\\nFitting 5 folds for each of 40 candidates, totalling 200 fits\\nTrain Accuracy : 1.000\\nTest Accuracy : 0.969\\nBest Accuracy Through Grid Search : 0.968\\nBest Parameters :  {'activation': 'relu', 'alpha': 0.05, 'batch_size': 100, 'hidden_layer_sizes': (50, 100), 'learning_rate': 'constant', 'solver': 'adam'}\\n\""
      ]
     },
     "execution_count": 21,
     "metadata": {},
     "output_type": "execute_result"
    }
   ],
   "source": [
    "from sklearn.model_selection import GridSearchCV\n",
    "from sklearn.neural_network import MLPClassifier\n",
    "\n",
    "\"\"\"\n",
    "params = {'activation': ['relu', 'tanh'],\n",
    "          'hidden_layer_sizes': [(50,), (100,), (100, 50,), (50, 100), (200,)],\n",
    "          'solver': ['adam'],\n",
    "          'learning_rate' : ['constant', 'invscaling'],\n",
    "          'batch_size': [50, 100],\n",
    "          'alpha': [0.05]\n",
    "         }\n",
    "\n",
    "mlp_classif_grid = GridSearchCV(MLPClassifier(random_state=123, max_iter=500), param_grid=params, n_jobs=-1, cv=5, verbose=10)\n",
    "mlp_classif_grid.fit(x_train,y_train)\n",
    "\n",
    "print('Train Accuracy : %.3f'%mlp_classif_grid.best_estimator_.score(x_train, y_train))\n",
    "print('Test Accuracy : %.3f'%mlp_classif_grid.best_estimator_.score(x_test, y_test))\n",
    "print('Best Accuracy Through Grid Search : %.3f'%mlp_classif_grid.best_score_)\n",
    "print('Best Parameters : ',mlp_classif_grid.best_params_)\n",
    "\"\"\"\n",
    "\"\"\"\n",
    "Fitting 5 folds for each of 40 candidates, totalling 200 fits\n",
    "Train Accuracy : 1.000\n",
    "Test Accuracy : 0.969\n",
    "Best Accuracy Through Grid Search : 0.968\n",
    "Best Parameters :  {'activation': 'relu', 'alpha': 0.05, 'batch_size': 100, 'hidden_layer_sizes': (50, 100), 'learning_rate': 'constant', 'solver': 'adam'}\n",
    "\"\"\""
   ]
  },
  {
   "cell_type": "markdown",
   "id": "1af1fc99",
   "metadata": {
    "id": "1af1fc99"
   },
   "source": [
    "# Modelo"
   ]
  },
  {
   "cell_type": "markdown",
   "id": "449a271b",
   "metadata": {
    "id": "449a271b"
   },
   "source": [
    "Treinando o modelo. \n",
    "Inicialmente seriam usados os hiperparâmetros encontrados no Grid Search. Porém, através dos vários testes realizados, alguns ajustes foram feitos."
   ]
  },
  {
   "cell_type": "code",
   "execution_count": null,
   "id": "f122e1b1",
   "metadata": {
    "id": "f122e1b1",
    "outputId": "d6c66770-8c81-4948-b673-17ec6ccdcfc0"
   },
   "outputs": [
    {
     "data": {
      "text/plain": [
       "(20995, 3)"
      ]
     },
     "execution_count": 22,
     "metadata": {},
     "output_type": "execute_result"
    }
   ],
   "source": [
    "np.shape(y_train)"
   ]
  },
  {
   "cell_type": "code",
   "execution_count": null,
   "id": "2c9f46fe",
   "metadata": {
    "id": "2c9f46fe",
    "outputId": "e79b82b3-b8ae-4c36-c0ca-5dc376d1c163"
   },
   "outputs": [
    {
     "data": {
      "text/plain": [
       "(13997, 3)"
      ]
     },
     "execution_count": 23,
     "metadata": {},
     "output_type": "execute_result"
    }
   ],
   "source": [
    "np.shape(y_test)"
   ]
  },
  {
   "cell_type": "code",
   "execution_count": null,
   "id": "4a04134b",
   "metadata": {
    "id": "4a04134b"
   },
   "outputs": [],
   "source": [
    "import tensorflow as tf\n",
    "from tensorflow.keras.models import Sequential\n",
    "from tensorflow.keras.layers import Dense, Dropout\n",
    "\n",
    "#para dar reproducibilidade\n",
    "seed = 7\n",
    "tf.random.set_seed(seed)\n",
    "\n",
    "#cria o modelo\n",
    "def create_model(opt, loss, metrics,  dropout_rate=0.0, initializer = 'normal', act = 'tanh'):\n",
    "    model = Sequential()\n",
    "    reg = tf.keras.regularizers.L2(l2=0.05)\n",
    "    \n",
    "    model.add(Dense(50, input_shape=(2048,), kernel_initializer= initializer, activation= act, kernel_regularizer=reg))\n",
    "    model.add(Dropout(dropout_rate))\n",
    "    model.add(Dense(100, kernel_initializer= initializer, activation= act, kernel_regularizer=reg))\n",
    "    model.add(Dropout(dropout_rate))\n",
    "    model.add(Dense(3, kernel_initializer= initializer, activation= act, kernel_regularizer=reg))\n",
    "\n",
    "    \n",
    "    model.compile(loss= loss, optimizer=opt, metrics= metrics)\n",
    "    return model"
   ]
  },
  {
   "cell_type": "code",
   "execution_count": null,
   "id": "7adbee81",
   "metadata": {
    "id": "7adbee81",
    "outputId": "56fe3a00-9092-43fc-cfe2-7c84beea23ef"
   },
   "outputs": [
    {
     "name": "stdout",
     "output_type": "stream",
     "text": [
      "Epoch 1/50\n",
      "294/294 [==============================] - 7s 16ms/step - loss: 10.5885 - accuracy: 0.6389 - val_loss: 8.5798 - val_accuracy: 0.8400\n",
      "Epoch 2/50\n",
      "294/294 [==============================] - 4s 14ms/step - loss: 8.6042 - accuracy: 0.8159 - val_loss: 8.0984 - val_accuracy: 0.8949\n",
      "Epoch 3/50\n",
      "294/294 [==============================] - 4s 15ms/step - loss: 8.0614 - accuracy: 0.8666 - val_loss: 7.6877 - val_accuracy: 0.9143\n",
      "Epoch 4/50\n",
      "294/294 [==============================] - 4s 14ms/step - loss: 7.6137 - accuracy: 0.8951 - val_loss: 7.2849 - val_accuracy: 0.9301\n",
      "Epoch 5/50\n",
      "294/294 [==============================] - 4s 14ms/step - loss: 7.1928 - accuracy: 0.9130 - val_loss: 6.8635 - val_accuracy: 0.9392\n",
      "Epoch 6/50\n",
      "294/294 [==============================] - 5s 18ms/step - loss: 6.7575 - accuracy: 0.9243 - val_loss: 6.4622 - val_accuracy: 0.9454\n",
      "Epoch 7/50\n",
      "294/294 [==============================] - 5s 17ms/step - loss: 6.3460 - accuracy: 0.9358 - val_loss: 6.0669 - val_accuracy: 0.9478\n",
      "Epoch 8/50\n",
      "294/294 [==============================] - 4s 15ms/step - loss: 5.9691 - accuracy: 0.9347 - val_loss: 5.6984 - val_accuracy: 0.9538\n",
      "Epoch 9/50\n",
      "294/294 [==============================] - 4s 14ms/step - loss: 5.5709 - accuracy: 0.9371 - val_loss: 5.3316 - val_accuracy: 0.9557\n",
      "Epoch 10/50\n",
      "294/294 [==============================] - 5s 15ms/step - loss: 5.2016 - accuracy: 0.9453 - val_loss: 4.9578 - val_accuracy: 0.9609\n",
      "Epoch 11/50\n",
      "294/294 [==============================] - 4s 14ms/step - loss: 4.8690 - accuracy: 0.9477 - val_loss: 4.6420 - val_accuracy: 0.9632\n",
      "Epoch 12/50\n",
      "294/294 [==============================] - 5s 17ms/step - loss: 4.5476 - accuracy: 0.9535 - val_loss: 4.3174 - val_accuracy: 0.9648\n",
      "Epoch 13/50\n",
      "294/294 [==============================] - 4s 15ms/step - loss: 4.2408 - accuracy: 0.9573 - val_loss: 4.0313 - val_accuracy: 0.9676\n",
      "Epoch 14/50\n",
      "294/294 [==============================] - 5s 16ms/step - loss: 3.9517 - accuracy: 0.9599 - val_loss: 3.8059 - val_accuracy: 0.9625\n",
      "Epoch 15/50\n",
      "294/294 [==============================] - 5s 15ms/step - loss: 3.7267 - accuracy: 0.9622 - val_loss: 3.5616 - val_accuracy: 0.9671\n",
      "Epoch 16/50\n",
      "294/294 [==============================] - 5s 16ms/step - loss: 3.4765 - accuracy: 0.9673 - val_loss: 3.2988 - val_accuracy: 0.9763\n",
      "Epoch 17/50\n",
      "294/294 [==============================] - 4s 15ms/step - loss: 3.2607 - accuracy: 0.9625 - val_loss: 3.1530 - val_accuracy: 0.9590\n",
      "Epoch 18/50\n",
      "294/294 [==============================] - 5s 16ms/step - loss: 3.1048 - accuracy: 0.9573 - val_loss: 2.9452 - val_accuracy: 0.9724\n",
      "Epoch 19/50\n",
      "294/294 [==============================] - 4s 15ms/step - loss: 2.9055 - accuracy: 0.9669 - val_loss: 2.7806 - val_accuracy: 0.9744\n",
      "Epoch 20/50\n",
      "294/294 [==============================] - 6s 19ms/step - loss: 2.7396 - accuracy: 0.9677 - val_loss: 2.6267 - val_accuracy: 0.9722\n",
      "Epoch 21/50\n",
      "294/294 [==============================] - 4s 15ms/step - loss: 2.5705 - accuracy: 0.9707 - val_loss: 2.4530 - val_accuracy: 0.9760\n",
      "Epoch 22/50\n",
      "294/294 [==============================] - 5s 16ms/step - loss: 2.3868 - accuracy: 0.9771 - val_loss: 2.2805 - val_accuracy: 0.9817\n",
      "Epoch 23/50\n",
      "294/294 [==============================] - 5s 16ms/step - loss: 2.2309 - accuracy: 0.9741 - val_loss: 2.1092 - val_accuracy: 0.9821\n",
      "Epoch 24/50\n",
      "294/294 [==============================] - 4s 15ms/step - loss: 2.1024 - accuracy: 0.9669 - val_loss: 2.0045 - val_accuracy: 0.9636\n",
      "Epoch 25/50\n",
      "294/294 [==============================] - 5s 15ms/step - loss: 1.9445 - accuracy: 0.9690 - val_loss: 1.8578 - val_accuracy: 0.9822\n",
      "Epoch 26/50\n",
      "294/294 [==============================] - 5s 18ms/step - loss: 1.8197 - accuracy: 0.9756 - val_loss: 1.7367 - val_accuracy: 0.9830\n",
      "Epoch 27/50\n",
      "294/294 [==============================] - 5s 16ms/step - loss: 1.6562 - accuracy: 0.9820 - val_loss: 1.5969 - val_accuracy: 0.9846\n",
      "Epoch 28/50\n",
      "294/294 [==============================] - 4s 15ms/step - loss: 1.5396 - accuracy: 0.9789 - val_loss: 1.4877 - val_accuracy: 0.9843\n",
      "Epoch 29/50\n",
      "294/294 [==============================] - 5s 16ms/step - loss: 1.4560 - accuracy: 0.9682 - val_loss: 1.3617 - val_accuracy: 0.9859\n",
      "Epoch 30/50\n",
      "294/294 [==============================] - 4s 15ms/step - loss: 1.3145 - accuracy: 0.9832 - val_loss: 1.2482 - val_accuracy: 0.9875\n",
      "Epoch 31/50\n",
      "294/294 [==============================] - 5s 16ms/step - loss: 1.2355 - accuracy: 0.9815 - val_loss: 1.2468 - val_accuracy: 0.9436\n",
      "Epoch 32/50\n",
      "294/294 [==============================] - 4s 15ms/step - loss: 1.1673 - accuracy: 0.9701 - val_loss: 1.1063 - val_accuracy: 0.9813\n",
      "Epoch 33/50\n",
      "294/294 [==============================] - 4s 14ms/step - loss: 1.0453 - accuracy: 0.9826 - val_loss: 1.0003 - val_accuracy: 0.9873\n",
      "Epoch 34/50\n",
      "294/294 [==============================] - 4s 14ms/step - loss: 1.0141 - accuracy: 0.9779 - val_loss: 0.9682 - val_accuracy: 0.9778\n",
      "Epoch 35/50\n",
      "294/294 [==============================] - 4s 15ms/step - loss: 0.9154 - accuracy: 0.9807 - val_loss: 0.8765 - val_accuracy: 0.9844\n",
      "Epoch 36/50\n",
      "294/294 [==============================] - 4s 14ms/step - loss: 0.8669 - accuracy: 0.9784 - val_loss: 0.8044 - val_accuracy: 0.9878\n",
      "Epoch 37/50\n",
      "294/294 [==============================] - 4s 14ms/step - loss: 0.8027 - accuracy: 0.9803 - val_loss: 0.7797 - val_accuracy: 0.9690\n",
      "Epoch 38/50\n",
      "294/294 [==============================] - 4s 14ms/step - loss: 0.7655 - accuracy: 0.9788 - val_loss: 0.7299 - val_accuracy: 0.9843\n",
      "Epoch 39/50\n",
      "294/294 [==============================] - 4s 14ms/step - loss: 0.6772 - accuracy: 0.9858 - val_loss: 0.6601 - val_accuracy: 0.9883\n",
      "Epoch 40/50\n",
      "294/294 [==============================] - 4s 14ms/step - loss: 0.6647 - accuracy: 0.9788 - val_loss: 0.6236 - val_accuracy: 0.9813\n",
      "Epoch 41/50\n",
      "294/294 [==============================] - 4s 14ms/step - loss: 0.5940 - accuracy: 0.9822 - val_loss: 0.5577 - val_accuracy: 0.9881\n",
      "Epoch 42/50\n",
      "294/294 [==============================] - 4s 14ms/step - loss: 0.5386 - accuracy: 0.9883 - val_loss: 0.5305 - val_accuracy: 0.9878\n",
      "Epoch 43/50\n",
      "294/294 [==============================] - 4s 15ms/step - loss: 0.5367 - accuracy: 0.9854 - val_loss: 0.5348 - val_accuracy: 0.9848\n",
      "Epoch 44/50\n",
      "294/294 [==============================] - 5s 16ms/step - loss: 0.5479 - accuracy: 0.9765 - val_loss: 0.6552 - val_accuracy: 0.9435\n",
      "Epoch 45/50\n",
      "294/294 [==============================] - 5s 16ms/step - loss: 0.5504 - accuracy: 0.9658 - val_loss: 0.4974 - val_accuracy: 0.9800\n",
      "Epoch 46/50\n",
      "294/294 [==============================] - 5s 16ms/step - loss: 0.4994 - accuracy: 0.9797 - val_loss: 0.4722 - val_accuracy: 0.9862\n",
      "Epoch 47/50\n",
      "294/294 [==============================] - 4s 15ms/step - loss: 0.4609 - accuracy: 0.9840 - val_loss: 0.4450 - val_accuracy: 0.9876\n",
      "Epoch 48/50\n",
      "294/294 [==============================] - 5s 16ms/step - loss: 0.4444 - accuracy: 0.9861 - val_loss: 0.4237 - val_accuracy: 0.9898\n",
      "Epoch 49/50\n",
      "294/294 [==============================] - 5s 16ms/step - loss: 0.4242 - accuracy: 0.9839 - val_loss: 0.4335 - val_accuracy: 0.9852\n",
      "Epoch 50/50\n",
      "294/294 [==============================] - 5s 15ms/step - loss: 0.4096 - accuracy: 0.9863 - val_loss: 0.3783 - val_accuracy: 0.9913\n"
     ]
    }
   ],
   "source": [
    "opt = tf.keras.optimizers.Adam(learning_rate=0.0001)\n",
    "init = tf.keras.initializers.GlorotNormal(seed = 7)\n",
    "\n",
    "loss = \"categorical_crossentropy\"\n",
    "metrics = [\"accuracy\"]\n",
    "act = \"relu\"\n",
    "\n",
    "teste = create_model(opt = opt, loss = loss, metrics = metrics, dropout_rate=0.15, initializer =init, act = act)\n",
    "\n",
    "history = teste.fit(x_train, y_train, epochs= 50, batch_size= 50, verbose=1,\n",
    "                    validation_split = 0.3, shuffle=True)"
   ]
  },
  {
   "cell_type": "code",
   "execution_count": null,
   "id": "803e0627",
   "metadata": {
    "id": "803e0627",
    "outputId": "f2fea9e4-c102-43e0-f57c-49099a57b822"
   },
   "outputs": [
    {
     "data": {
      "image/png": "[encoded data removed]",
      "text/plain": [
       "<Figure size 1600x800 with 1 Axes>"
      ]
     },
     "metadata": {},
     "output_type": "display_data"
    }
   ],
   "source": [
    "plt.figure(figsize=(16, 8))\n",
    "plt.title('Learning Curves - Loss')\n",
    "plt.xlabel('Epoch')\n",
    "plt.ylabel('categorical_crossentropy')\n",
    "\n",
    "#escala logarítimica, para facilitar a visualização\n",
    "plt.semilogy(history.history['loss'], label='train')\n",
    "plt.semilogy(history.history['val_loss'], label='val')\n",
    "plt.legend()\n",
    "plt.show()"
   ]
  },
  {
   "cell_type": "markdown",
   "id": "vjLOIIeD4U6J",
   "metadata": {
    "id": "vjLOIIeD4U6J"
   },
   "source": [
    "A figura seguinte mostra as curvas referentes ao aprendizado, mostrando a evolução da acurácia. Note que, apesar do grande ruído aparente, devemos levar em consideração a pequena escala da acurácia no gráfico."
   ]
  },
  {
   "cell_type": "code",
   "execution_count": null,
   "id": "6fe26ccc",
   "metadata": {
    "id": "6fe26ccc",
    "outputId": "1ad19bdb-5551-48f0-b1fd-28d94463daeb"
   },
   "outputs": [
    {
     "data": {
      "image/png": "[encoded data removed]",
      "text/plain": [
       "<Figure size 1600x800 with 1 Axes>"
      ]
     },
     "metadata": {},
     "output_type": "display_data"
    }
   ],
   "source": [
    "plt.figure(figsize=(16, 8))\n",
    "plt.title('Learning Curves - acuracia')\n",
    "plt.xlabel('Epoch')\n",
    "plt.ylabel('Acurácia')\n",
    "plt.plot(history.history['accuracy'][10:], label='train')\n",
    "plt.plot(history.history['val_accuracy'][10:], label='val')\n",
    "plt.legend()\n",
    "plt.show()"
   ]
  },
  {
   "cell_type": "code",
   "execution_count": null,
   "id": "f6ff0f95",
   "metadata": {
    "id": "f6ff0f95",
    "outputId": "6422d612-0687-40c0-978a-fcad7fe6d6e4"
   },
   "outputs": [
    {
     "name": "stdout",
     "output_type": "stream",
     "text": [
      "Train: 0.994, Test: 0.990\n"
     ]
    }
   ],
   "source": [
    "# Avaliando o modelo\n",
    "_, train_acc = teste.evaluate(x_train, y_train, verbose=0)\n",
    "_, test_acc = teste.evaluate(x_test, y_test,  verbose=0)\n",
    "print('Train: %.3f, Test: %.3f' % (train_acc, test_acc))"
   ]
  },
  {
   "cell_type": "code",
   "execution_count": null,
   "id": "a17502d5",
   "metadata": {
    "id": "a17502d5",
    "outputId": "cac28512-15ff-4849-c8b9-acf1b9582781"
   },
   "outputs": [
    {
     "name": "stdout",
     "output_type": "stream",
     "text": [
      "438/438 [==============================] - 2s 4ms/step\n"
     ]
    },
    {
     "data": {
      "image/png": "[encoded data removed]",
      "text/plain": [
       "<Figure size 640x480 with 2 Axes>"
      ]
     },
     "metadata": {},
     "output_type": "display_data"
    }
   ],
   "source": [
    "from sklearn.metrics import confusion_matrix, ConfusionMatrixDisplay\n",
    "\n",
    "y_pred = teste.predict(x_test)\n",
    "\n",
    "# Aplica a função argmax\n",
    "y_pred = np.argmax(y_pred, axis=1)\n",
    "y_test = np.argmax(y_test, axis=1)\n",
    "\n",
    "# Calcula a matriz de confusão\n",
    "cm = confusion_matrix(y_test, y_pred)\n",
    "\n",
    "disp = ConfusionMatrixDisplay(confusion_matrix=cm)\n",
    "\n",
    "disp.plot()\n",
    "plt.show()"
   ]
  }
 ],
 "metadata": {
  "colab": {
   "provenance": []
  },
  "kernelspec": {
   "display_name": "Python 3 (ipykernel)",
   "language": "python",
   "name": "python3"
  },
  "language_info": {
   "codemirror_mode": {
    "name": "ipython",
    "version": 3
   },
   "file_extension": ".py",
   "mimetype": "text/x-python",
   "name": "python",
   "nbconvert_exporter": "python",
   "pygments_lexer": "ipython3",
   "version": "3.9.13"
  }
 },
 "nbformat": 4,
 "nbformat_minor": 5
}
